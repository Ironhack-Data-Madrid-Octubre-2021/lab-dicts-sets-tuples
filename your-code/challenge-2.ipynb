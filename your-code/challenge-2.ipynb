{
 "cells": [
  {
   "cell_type": "markdown",
   "metadata": {},
   "source": [
    "## Challenge 2: Sets\n",
    "\n",
    "There are a lot to learn about Python Sets and the information presented in the lesson is limited due to its length. To learn Python Sets in depth you are strongly encouraged to review the W3Schools tutorial on [Python Sets Examples and Methods](https://www.w3schools.com/python/python_sets.asp) before you work on this lab. Some difficult questions in this lab have their solutions in the W3Schools tutorial.\n",
    "\n",
    "#### First, import the Python `random` library."
   ]
  },
  {
   "cell_type": "code",
   "execution_count": 2,
   "metadata": {},
   "outputs": [],
   "source": [
    "import random"
   ]
  },
  {
   "cell_type": "markdown",
   "metadata": {},
   "source": [
    "#### In the cell below, create a list named `sample_list_1` with 80 random values. \n",
    "\n",
    "Requirements:\n",
    "\n",
    "* Each value is an integer falling between 0 and 100.\n",
    "* Each value in the list is unique.\n",
    "\n",
    "Print `sample_list_1` to review its values\n",
    "\n",
    "*Hint: use `random.sample` ([reference](https://docs.python.org/3/library/random.html#random.sample)).*"
   ]
  },
  {
   "cell_type": "code",
   "execution_count": 3,
   "metadata": {
    "scrolled": false
   },
   "outputs": [
    {
     "name": "stdout",
     "output_type": "stream",
     "text": [
      "[9, 58, 13, 39, 64, 76, 0, 77, 57, 19, 32, 78, 20, 72, 56, 86, 36, 5, 37, 63, 80, 34, 18, 85, 49, 84, 98, 54, 48, 21, 55, 51, 50, 40, 14, 79, 96, 26, 94, 44, 99, 35, 27, 7, 53, 3, 43, 1, 60, 87, 24, 11, 2, 10, 42, 70, 93, 65, 31, 17, 15, 8, 83, 66, 4, 52, 46, 71, 47, 91, 22, 73, 68, 97, 89, 82, 62, 16, 29, 28]\n"
     ]
    }
   ],
   "source": [
    "# Your code here\n",
    "sample_list_1 = random.sample(range(101),80) \n",
    "\n",
    "print(sample_list_1)"
   ]
  },
  {
   "cell_type": "code",
   "execution_count": 4,
   "metadata": {},
   "outputs": [
    {
     "name": "stdout",
     "output_type": "stream",
     "text": [
      "0 1\n",
      "1 1\n",
      "2 1\n",
      "3 1\n",
      "4 1\n",
      "5 1\n",
      "6 0\n",
      "7 1\n",
      "8 1\n",
      "9 1\n",
      "10 1\n",
      "11 1\n",
      "12 0\n",
      "13 1\n",
      "14 1\n",
      "15 1\n",
      "16 1\n",
      "17 1\n",
      "18 1\n",
      "19 1\n",
      "20 1\n",
      "21 1\n",
      "22 1\n",
      "23 0\n",
      "24 1\n",
      "25 0\n",
      "26 1\n",
      "27 1\n",
      "28 1\n",
      "29 1\n",
      "30 0\n",
      "31 1\n",
      "32 1\n",
      "33 0\n",
      "34 1\n",
      "35 1\n",
      "36 1\n",
      "37 1\n",
      "38 0\n",
      "39 1\n",
      "40 1\n",
      "41 0\n",
      "42 1\n",
      "43 1\n",
      "44 1\n",
      "45 0\n",
      "46 1\n",
      "47 1\n",
      "48 1\n",
      "49 1\n",
      "50 1\n",
      "51 1\n",
      "52 1\n",
      "53 1\n",
      "54 1\n",
      "55 1\n",
      "56 1\n",
      "57 1\n",
      "58 1\n",
      "59 0\n",
      "60 1\n",
      "61 0\n",
      "62 1\n",
      "63 1\n",
      "64 1\n",
      "65 1\n",
      "66 1\n",
      "67 0\n",
      "68 1\n",
      "69 0\n",
      "70 1\n",
      "71 1\n",
      "72 1\n",
      "73 1\n",
      "74 0\n",
      "75 0\n",
      "76 1\n",
      "77 1\n",
      "78 1\n",
      "79 1\n",
      "80 1\n",
      "81 0\n",
      "82 1\n",
      "83 1\n",
      "84 1\n",
      "85 1\n",
      "86 1\n",
      "87 1\n",
      "88 0\n",
      "89 1\n",
      "90 0\n",
      "91 1\n",
      "92 0\n",
      "93 1\n",
      "94 1\n",
      "95 0\n",
      "96 1\n",
      "97 1\n",
      "98 1\n",
      "99 1\n",
      "100 0\n"
     ]
    }
   ],
   "source": [
    "# esto es para comprobar visualmente la lista de números que tenemos y las frequencias de cada número.\n",
    "# sólo hay frequencias con 0s y 1s, no hay repetidos.\n",
    "for i in range(101) :\n",
    "    print(i, sample_list_1.count(i))"
   ]
  },
  {
   "cell_type": "markdown",
   "metadata": {},
   "source": [
    "#### Convert `sample_list_1` to a set called `set1`. Print the length of the set. Is its length still 80?"
   ]
  },
  {
   "cell_type": "code",
   "execution_count": 5,
   "metadata": {},
   "outputs": [
    {
     "data": {
      "text/plain": [
       "list"
      ]
     },
     "execution_count": 5,
     "metadata": {},
     "output_type": "execute_result"
    }
   ],
   "source": [
    "type(sample_list_1)"
   ]
  },
  {
   "cell_type": "code",
   "execution_count": 6,
   "metadata": {},
   "outputs": [
    {
     "data": {
      "text/plain": [
       "set"
      ]
     },
     "execution_count": 6,
     "metadata": {},
     "output_type": "execute_result"
    }
   ],
   "source": [
    "set1 = set(sample_list_1)\n",
    "type(set1)"
   ]
  },
  {
   "cell_type": "code",
   "execution_count": 7,
   "metadata": {},
   "outputs": [
    {
     "name": "stdout",
     "output_type": "stream",
     "text": [
      "set1 is:\n",
      "{0, 1, 2, 3, 4, 5, 7, 8, 9, 10, 11, 13, 14, 15, 16, 17, 18, 19, 20, 21, 22, 24, 26, 27, 28, 29, 31, 32, 34, 35, 36, 37, 39, 40, 42, 43, 44, 46, 47, 48, 49, 50, 51, 52, 53, 54, 55, 56, 57, 58, 60, 62, 63, 64, 65, 66, 68, 70, 71, 72, 73, 76, 77, 78, 79, 80, 82, 83, 84, 85, 86, 87, 89, 91, 93, 94, 96, 97, 98, 99}\n",
      "\n",
      "\n",
      "sample_list_1 is:\n",
      "[9, 58, 13, 39, 64, 76, 0, 77, 57, 19, 32, 78, 20, 72, 56, 86, 36, 5, 37, 63, 80, 34, 18, 85, 49, 84, 98, 54, 48, 21, 55, 51, 50, 40, 14, 79, 96, 26, 94, 44, 99, 35, 27, 7, 53, 3, 43, 1, 60, 87, 24, 11, 2, 10, 42, 70, 93, 65, 31, 17, 15, 8, 83, 66, 4, 52, 46, 71, 47, 91, 22, 73, 68, 97, 89, 82, 62, 16, 29, 28]\n"
     ]
    }
   ],
   "source": [
    "# esto es para ver las diferencias entre set1 y sample_list_1\n",
    "print(\"set1 is:\")\n",
    "print(set1)\n",
    "print(\"\\n\")\n",
    "print(\"sample_list_1 is:\")\n",
    "print(sample_list_1)"
   ]
  },
  {
   "cell_type": "markdown",
   "metadata": {},
   "source": [
    "#### Create another list named `sample_list_2` with 80 random values.\n",
    "\n",
    "Requirements:\n",
    "\n",
    "* Each value is an integer falling between 0 and 100.\n",
    "* The values in the list don't have to be unique.\n",
    "\n",
    "*Hint: Use a FOR loop.*"
   ]
  },
  {
   "cell_type": "code",
   "execution_count": 8,
   "metadata": {},
   "outputs": [],
   "source": [
    "sample_list_2 = []\n",
    "for i in range(80) :\n",
    "    sample_list_2.extend(random.sample(range(101),1))"
   ]
  },
  {
   "cell_type": "code",
   "execution_count": 9,
   "metadata": {},
   "outputs": [
    {
     "name": "stdout",
     "output_type": "stream",
     "text": [
      "0 0\n",
      "1 0\n",
      "2 1\n",
      "3 2\n",
      "4 2\n",
      "5 1\n",
      "6 2\n",
      "7 2\n",
      "8 1\n",
      "9 1\n",
      "10 0\n",
      "11 2\n",
      "12 0\n",
      "13 0\n",
      "14 0\n",
      "15 1\n",
      "16 1\n",
      "17 1\n",
      "18 1\n",
      "19 2\n",
      "20 0\n",
      "21 1\n",
      "22 0\n",
      "23 0\n",
      "24 1\n",
      "25 0\n",
      "26 1\n",
      "27 0\n",
      "28 1\n",
      "29 0\n",
      "30 1\n",
      "31 1\n",
      "32 1\n",
      "33 0\n",
      "34 0\n",
      "35 0\n",
      "36 2\n",
      "37 1\n",
      "38 2\n",
      "39 1\n",
      "40 0\n",
      "41 1\n",
      "42 1\n",
      "43 1\n",
      "44 1\n",
      "45 1\n",
      "46 2\n",
      "47 1\n",
      "48 2\n",
      "49 2\n",
      "50 0\n",
      "51 1\n",
      "52 1\n",
      "53 2\n",
      "54 0\n",
      "55 0\n",
      "56 1\n",
      "57 1\n",
      "58 0\n",
      "59 2\n",
      "60 1\n",
      "61 0\n",
      "62 0\n",
      "63 2\n",
      "64 0\n",
      "65 1\n",
      "66 1\n",
      "67 1\n",
      "68 0\n",
      "69 0\n",
      "70 0\n",
      "71 1\n",
      "72 1\n",
      "73 1\n",
      "74 0\n",
      "75 0\n",
      "76 1\n",
      "77 2\n",
      "78 1\n",
      "79 1\n",
      "80 0\n",
      "81 0\n",
      "82 0\n",
      "83 0\n",
      "84 2\n",
      "85 0\n",
      "86 0\n",
      "87 2\n",
      "88 2\n",
      "89 2\n",
      "90 1\n",
      "91 0\n",
      "92 0\n",
      "93 1\n",
      "94 0\n",
      "95 1\n",
      "96 0\n",
      "97 1\n",
      "98 1\n",
      "99 0\n",
      "100 0\n",
      "\n",
      "\n",
      "la longitud de la lista es  80\n"
     ]
    }
   ],
   "source": [
    "# esto es para comprobar visualmente la lista de números que tenemos y las frequencias de cada número.\n",
    "# sólo hay frequencias con 0s, 1s, 2s, 3s y hasta 4s (número 98) --> sí hay repetidos.\n",
    "\n",
    "for i in range(101) :\n",
    "    print(i, sample_list_2.count(i))\n",
    "print(\"\\n\")\n",
    "print (\"la longitud de la lista es \", len(sample_list_2))"
   ]
  },
  {
   "cell_type": "markdown",
   "metadata": {},
   "source": [
    "#### Convert `sample_list_2` to a set called `set2`. Print the length of the set. Is its length still 80?"
   ]
  },
  {
   "cell_type": "code",
   "execution_count": 10,
   "metadata": {},
   "outputs": [],
   "source": [
    "set2 = set(sample_list_2)"
   ]
  },
  {
   "cell_type": "code",
   "execution_count": 11,
   "metadata": {},
   "outputs": [
    {
     "name": "stdout",
     "output_type": "stream",
     "text": [
      "0 False\n",
      "1 False\n",
      "2 True\n",
      "3 True\n",
      "4 True\n",
      "5 True\n",
      "6 True\n",
      "7 True\n",
      "8 True\n",
      "9 True\n",
      "10 False\n",
      "11 True\n",
      "12 False\n",
      "13 False\n",
      "14 False\n",
      "15 True\n",
      "16 True\n",
      "17 True\n",
      "18 True\n",
      "19 True\n",
      "20 False\n",
      "21 True\n",
      "22 False\n",
      "23 False\n",
      "24 True\n",
      "25 False\n",
      "26 True\n",
      "27 False\n",
      "28 True\n",
      "29 False\n",
      "30 True\n",
      "31 True\n",
      "32 True\n",
      "33 False\n",
      "34 False\n",
      "35 False\n",
      "36 True\n",
      "37 True\n",
      "38 True\n",
      "39 True\n",
      "40 False\n",
      "41 True\n",
      "42 True\n",
      "43 True\n",
      "44 True\n",
      "45 True\n",
      "46 True\n",
      "47 True\n",
      "48 True\n",
      "49 True\n",
      "50 False\n",
      "51 True\n",
      "52 True\n",
      "53 True\n",
      "54 False\n",
      "55 False\n",
      "56 True\n",
      "57 True\n",
      "58 False\n",
      "59 True\n",
      "60 True\n",
      "61 False\n",
      "62 False\n",
      "63 True\n",
      "64 False\n",
      "65 True\n",
      "66 True\n",
      "67 True\n",
      "68 False\n",
      "69 False\n",
      "70 False\n",
      "71 True\n",
      "72 True\n",
      "73 True\n",
      "74 False\n",
      "75 False\n",
      "76 True\n",
      "77 True\n",
      "78 True\n",
      "79 True\n",
      "80 False\n",
      "81 False\n",
      "82 False\n",
      "83 False\n",
      "84 True\n",
      "85 False\n",
      "86 False\n",
      "87 True\n",
      "88 True\n",
      "89 True\n",
      "90 True\n",
      "91 False\n",
      "92 False\n",
      "93 True\n",
      "94 False\n",
      "95 True\n",
      "96 False\n",
      "97 True\n",
      "98 True\n",
      "99 False\n",
      "100 False\n",
      "\n",
      "\n",
      "la longitud de la lista en forma de set es  61\n"
     ]
    }
   ],
   "source": [
    "# esto es para comprobar visualmente la lista de números que tenemos.\n",
    "# para los sets no funciona el método .count, por tanto sólo pongo si ese número está en el set.\n",
    "\n",
    "for i in range(101) :\n",
    "    \n",
    "    print(i, i in set2)\n",
    "print(\"\\n\")\n",
    "print (\"la longitud de la lista en forma de set es \", len(set2))"
   ]
  },
  {
   "cell_type": "markdown",
   "metadata": {},
   "source": [
    "#### Identify the elements present in `set1` but not in `set2`. Assign the elements to a new set named `set3`."
   ]
  },
  {
   "cell_type": "code",
   "execution_count": 12,
   "metadata": {},
   "outputs": [
    {
     "data": {
      "text/plain": [
       "29"
      ]
     },
     "execution_count": 12,
     "metadata": {},
     "output_type": "execute_result"
    }
   ],
   "source": [
    "set3 = set1.difference(set2)\n",
    "len(set3)\n",
    "\n"
   ]
  },
  {
   "cell_type": "markdown",
   "metadata": {},
   "source": [
    "#### Identify the elements present in `set2` but not in `set1`. Assign the elements to a new set named `set4`."
   ]
  },
  {
   "cell_type": "code",
   "execution_count": 13,
   "metadata": {},
   "outputs": [
    {
     "data": {
      "text/plain": [
       "{6, 30, 38, 41, 45, 59, 67, 88, 90, 95}"
      ]
     },
     "execution_count": 13,
     "metadata": {},
     "output_type": "execute_result"
    }
   ],
   "source": [
    "set4 = set2.difference(set1)\n",
    "set4"
   ]
  },
  {
   "cell_type": "code",
   "execution_count": 14,
   "metadata": {},
   "outputs": [
    {
     "data": {
      "text/plain": [
       "10"
      ]
     },
     "execution_count": 14,
     "metadata": {},
     "output_type": "execute_result"
    }
   ],
   "source": [
    "len(set4)"
   ]
  },
  {
   "cell_type": "markdown",
   "metadata": {},
   "source": [
    "#### Now Identify the elements shared between `set1` and `set2`. Assign the elements to a new set named `set5`."
   ]
  },
  {
   "cell_type": "code",
   "execution_count": 15,
   "metadata": {},
   "outputs": [
    {
     "data": {
      "text/plain": [
       "51"
      ]
     },
     "execution_count": 15,
     "metadata": {},
     "output_type": "execute_result"
    }
   ],
   "source": [
    "set5 = set1.intersection(set2)\n",
    "len(set5)"
   ]
  },
  {
   "cell_type": "markdown",
   "metadata": {},
   "source": [
    "#### What is the relationship among the following values:\n",
    "\n",
    "* len(set1)\n",
    "* len(set2)\n",
    "* len(set3)\n",
    "* len(set4)\n",
    "* len(set5)\n",
    "\n",
    "Use a math formular to represent that relationship. Test your formular with Python code."
   ]
  },
  {
   "cell_type": "markdown",
   "metadata": {},
   "source": [
    "len(set1) - len(set3) = len(set2) - len(set4) = len(set5)"
   ]
  },
  {
   "cell_type": "code",
   "execution_count": 16,
   "metadata": {},
   "outputs": [
    {
     "name": "stdout",
     "output_type": "stream",
     "text": [
      "80\n",
      "61\n",
      "29\n",
      "10\n",
      "51\n",
      "80 - 29 = 51   True\n",
      "61 - 10 = 51   True\n"
     ]
    }
   ],
   "source": [
    "print(len(set1))\n",
    "print(len(set2))\n",
    "print(len(set3))\n",
    "print(len(set4))\n",
    "print(len(set5))\n",
    "\n",
    "print (len(set1) ,\"-\", len(set3),\"=\",len(set5), \" \" , len(set1) - len(set3) == len(set5))\n",
    "print (len(set2) ,\"-\", len(set4),\"=\",len(set5), \" \" , len(set2) - len(set4) == len(set5))"
   ]
  },
  {
   "cell_type": "markdown",
   "metadata": {},
   "source": [
    "#### Create an empty set called `set6`."
   ]
  },
  {
   "cell_type": "code",
   "execution_count": 17,
   "metadata": {},
   "outputs": [
    {
     "name": "stdout",
     "output_type": "stream",
     "text": [
      "set()\n"
     ]
    },
    {
     "data": {
      "text/plain": [
       "set"
      ]
     },
     "execution_count": 17,
     "metadata": {},
     "output_type": "execute_result"
    }
   ],
   "source": [
    "set6 = {()}\n",
    "set6.clear()\n",
    "print(set6)\n",
    "type(set6)\n"
   ]
  },
  {
   "cell_type": "markdown",
   "metadata": {},
   "source": [
    "#### Add `set3` and `set5` to `set6` using the Python Set `update` method."
   ]
  },
  {
   "cell_type": "code",
   "execution_count": 18,
   "metadata": {},
   "outputs": [
    {
     "name": "stdout",
     "output_type": "stream",
     "text": [
      "{0, 1, 2, 3, 4, 5, 7, 8, 9, 10, 11, 13, 14, 15, 16, 17, 18, 19, 20, 21, 22, 24, 26, 27, 28, 29, 31, 32, 34, 35, 36, 37, 39, 40, 42, 43, 44, 46, 47, 48, 49, 50, 51, 52, 53, 54, 55, 56, 57, 58, 60, 62, 63, 64, 65, 66, 68, 70, 71, 72, 73, 76, 77, 78, 79, 80, 82, 83, 84, 85, 86, 87, 89, 91, 93, 94, 96, 97, 98, 99}\n"
     ]
    }
   ],
   "source": [
    "set6.update(set3)\n",
    "set6.update(set5)\n",
    "\n",
    "print(set6)\n"
   ]
  },
  {
   "cell_type": "markdown",
   "metadata": {},
   "source": [
    "#### Check if `set1` and `set6` are equal."
   ]
  },
  {
   "cell_type": "code",
   "execution_count": 19,
   "metadata": {},
   "outputs": [
    {
     "data": {
      "text/plain": [
       "True"
      ]
     },
     "execution_count": 19,
     "metadata": {},
     "output_type": "execute_result"
    }
   ],
   "source": [
    "set1 == set6\n"
   ]
  },
  {
   "cell_type": "markdown",
   "metadata": {},
   "source": [
    "#### Check if `set1` contains `set2` using the Python Set `issubset` method. Then check if `set1` contains `set3`.*"
   ]
  },
  {
   "cell_type": "code",
   "execution_count": 20,
   "metadata": {},
   "outputs": [
    {
     "data": {
      "text/plain": [
       "False"
      ]
     },
     "execution_count": 20,
     "metadata": {},
     "output_type": "execute_result"
    }
   ],
   "source": [
    "set2.issubset(set1)\n"
   ]
  },
  {
   "cell_type": "code",
   "execution_count": 21,
   "metadata": {},
   "outputs": [
    {
     "data": {
      "text/plain": [
       "True"
      ]
     },
     "execution_count": 21,
     "metadata": {},
     "output_type": "execute_result"
    }
   ],
   "source": [
    "set3.issubset(set1)"
   ]
  },
  {
   "cell_type": "markdown",
   "metadata": {},
   "source": [
    "#### Using the Python Set `union` method, aggregate `set3`, `set4`, and `set5`. Then aggregate `set1` and `set2`. \n",
    "\n",
    "#### Check if the aggregated values are equal."
   ]
  },
  {
   "cell_type": "code",
   "execution_count": 22,
   "metadata": {},
   "outputs": [
    {
     "data": {
      "text/plain": [
       "True"
      ]
     },
     "execution_count": 22,
     "metadata": {},
     "output_type": "execute_result"
    }
   ],
   "source": [
    "set3.union(set4).union(set5) == set1.union(set2)"
   ]
  },
  {
   "cell_type": "markdown",
   "metadata": {},
   "source": [
    "#### Using the `pop` method, remove the first element from `set1`."
   ]
  },
  {
   "cell_type": "code",
   "execution_count": 23,
   "metadata": {},
   "outputs": [
    {
     "name": "stdout",
     "output_type": "stream",
     "text": [
      "{1, 2, 3, 4, 5, 7, 8, 9, 10, 11, 13, 14, 15, 16, 17, 18, 19, 20, 21, 22, 24, 26, 27, 28, 29, 31, 32, 34, 35, 36, 37, 39, 40, 42, 43, 44, 46, 47, 48, 49, 50, 51, 52, 53, 54, 55, 56, 57, 58, 60, 62, 63, 64, 65, 66, 68, 70, 71, 72, 73, 76, 77, 78, 79, 80, 82, 83, 84, 85, 86, 87, 89, 91, 93, 94, 96, 97, 98, 99}\n"
     ]
    }
   ],
   "source": [
    "set1.pop()\n",
    "print(set1)"
   ]
  },
  {
   "cell_type": "markdown",
   "metadata": {},
   "source": [
    "#### Remove every element in the following list from `set1` if they are present in the set. Print the remaining elements.\n",
    "\n",
    "```\n",
    "list_to_remove = [1, 9, 11, 19, 21, 29, 31, 39, 41, 49, 51, 59, 61, 69, 71, 79, 81, 89, 91, 99]\n",
    "```"
   ]
  },
  {
   "cell_type": "code",
   "execution_count": 24,
   "metadata": {},
   "outputs": [
    {
     "name": "stdout",
     "output_type": "stream",
     "text": [
      "{2, 3, 4, 5, 7, 8, 10, 13, 14, 15, 16, 17, 18, 20, 22, 24, 26, 27, 28, 32, 34, 35, 36, 37, 40, 42, 43, 44, 46, 47, 48, 50, 52, 53, 54, 55, 56, 57, 58, 60, 62, 63, 64, 65, 66, 68, 70, 72, 73, 76, 77, 78, 80, 82, 83, 84, 85, 86, 87, 93, 94, 96, 97, 98}\n"
     ]
    }
   ],
   "source": [
    "list_to_remove = [1, 9, 11, 19, 21, 29, 31, 39, 41, 49, 51, 59, 61, 69, 71, 79, 81, 89, 91, 99]\n",
    "for i in list_to_remove :\n",
    "    if i in set1 :\n",
    "        set1.remove(i)\n",
    "print(set1)"
   ]
  },
  {
   "cell_type": "code",
   "execution_count": null,
   "metadata": {},
   "outputs": [],
   "source": []
  }
 ],
 "metadata": {
  "kernelspec": {
   "display_name": "Python 3",
   "language": "python",
   "name": "python3"
  },
  "language_info": {
   "codemirror_mode": {
    "name": "ipython",
    "version": 3
   },
   "file_extension": ".py",
   "mimetype": "text/x-python",
   "name": "python",
   "nbconvert_exporter": "python",
   "pygments_lexer": "ipython3",
   "version": "3.8.8"
  }
 },
 "nbformat": 4,
 "nbformat_minor": 2
}
