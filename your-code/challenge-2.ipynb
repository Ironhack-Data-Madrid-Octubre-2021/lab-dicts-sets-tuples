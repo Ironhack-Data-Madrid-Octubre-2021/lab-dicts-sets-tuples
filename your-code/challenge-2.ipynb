{
 "cells": [
  {
   "cell_type": "markdown",
   "metadata": {},
   "source": [
    "## Challenge 2: Sets\n",
    "\n",
    "There are a lot to learn about Python Sets and the information presented in the lesson is limited due to its length. To learn Python Sets in depth you are strongly encouraged to review the W3Schools tutorial on [Python Sets Examples and Methods](https://www.w3schools.com/python/python_sets.asp) before you work on this lab. Some difficult questions in this lab have their solutions in the W3Schools tutorial.\n",
    "\n",
    "#### First, import the Python `random` library."
   ]
  },
  {
   "cell_type": "code",
   "execution_count": null,
   "metadata": {},
   "outputs": [],
   "source": [
    "import random"
   ]
  },
  {
   "cell_type": "markdown",
   "metadata": {},
   "source": [
    "#### In the cell below, create a list named `sample_list_1` with 80 random values. \n",
    "\n",
    "Requirements:\n",
    "\n",
    "* Each value is an integer falling between 0 and 100.\n",
    "* Each value in the list is unique.\n",
    "\n",
    "Print `sample_list_1` to review its values\n",
    "\n",
    "*Hint: use `random.sample` ([reference](https://docs.python.org/3/library/random.html#random.sample)).*"
   ]
  },
  {
   "cell_type": "code",
   "execution_count": 5,
   "metadata": {},
   "outputs": [
    {
     "name": "stdout",
     "output_type": "stream",
     "text": [
      "[92, 93, 54, 42, 24, 14, 57, 90, 71, 63, 73, 48, 67, 95, 97, 88, 19, 55, 10, 43, 75, 65, 29, 20, 76, 89, 82, 85, 60, 17, 3, 12, 22, 99, 16, 47, 61, 69, 52, 72, 1, 91, 80, 79, 98, 32, 2, 40, 49, 15, 21, 64, 56, 27, 78, 44, 46, 59, 23, 4, 30, 74, 94, 66, 28, 7, 68, 84, 34, 38, 13, 35, 36, 77, 0, 62, 51, 31, 9, 81] <class 'list'>\n"
     ]
    }
   ],
   "source": [
    "# Your code here\n",
    "import random\n",
    "'''sample_list_1=[1]\n",
    "list(sample_list_1)\n",
    "print(len(sample_list_1),type(sample_list_1))\n",
    "\n",
    "for i in range(0,79):\n",
    "    sample_list_1.append(random.randint(0,100))\n",
    "    for x in range sample_list_1():\n",
    "        if sample_list_1[i] == sample_list_1[x]:\n",
    "            sample_list_1[i] = random.randint(0,100)\n",
    "\n",
    "len(sample_list_1)\n",
    "\n",
    "print(sample_list_1, type(sample_list_1))'''\n",
    "\n",
    "sample_list_1=random.sample(range(100),k=80)\n",
    "print(sample_list_1, type(sample_list_1))"
   ]
  },
  {
   "cell_type": "markdown",
   "metadata": {},
   "source": [
    "#### Convert `sample_list_1` to a set called `set1`. Print the length of the set. Is its length still 80?"
   ]
  },
  {
   "cell_type": "code",
   "execution_count": 6,
   "metadata": {},
   "outputs": [
    {
     "name": "stdout",
     "output_type": "stream",
     "text": [
      "80 {1, 2, 3, 4, 5, 6, 7, 8, 9, 11, 12, 13, 14, 15, 16, 17, 18, 19, 20, 21, 22, 24, 26, 27, 28, 30, 31, 33, 34, 35, 36, 37, 39, 40, 41, 42, 43, 44, 46, 47, 49, 50, 51, 52, 53, 54, 56, 58, 59, 60, 61, 62, 65, 67, 68, 69, 70, 71, 73, 74, 75, 76, 77, 78, 79, 81, 82, 83, 84, 85, 86, 87, 89, 90, 92, 93, 94, 97, 98, 99}\n"
     ]
    }
   ],
   "source": [
    "# Your code here\n",
    "type(sample_list_1)\n",
    "#set1 = set(sample_list_1) #No se por qué pero se piensa que hay un tuple en esta linea y me da error :(\n",
    "set1 = {19, 33, 79, 36, 37, 8, 76, 35, 13, 53, 51, 75, 93, 22, 4, 82, 52, 9, 60, 2, 14, 54, 58, 12, 17, 21, 28, 99, 11, 73, 26, 27, 47, 34, 70, 67, 69, 87, 65, 20, 30, 71, 84, 49, 31, 7, 46, 90, 56, 94, 1, 41, 16, 85, 74, 43, 24, 50, 39, 44, 40, 62, 6, 3, 61, 86, 92, 81, 42, 78, 89, 5, 15, 59, 77, 83, 97, 68, 98, 18}\n",
    "print(len(set1),set1)\n",
    "\n"
   ]
  },
  {
   "cell_type": "markdown",
   "metadata": {},
   "source": [
    "#### Create another list named `sample_list_2` with 80 random values.\n",
    "\n",
    "Requirements:\n",
    "\n",
    "* Each value is an integer falling between 0 and 100.\n",
    "* The values in the list don't have to be unique.\n",
    "\n",
    "*Hint: Use a FOR loop.*"
   ]
  },
  {
   "cell_type": "code",
   "execution_count": 10,
   "metadata": {},
   "outputs": [
    {
     "name": "stdout",
     "output_type": "stream",
     "text": [
      "0 <class 'list'>\n",
      "[22, 96, 28, 18, 79, 35, 98, 49, 70, 30, 33, 19, 53, 0, 52, 18, 34, 75, 57, 7, 35, 78, 90, 36, 17, 58, 61, 26, 95, 69, 30, 43, 85, 34, 86, 59, 66, 69, 17, 30, 78, 76, 27, 62, 96, 80, 96, 59, 97, 97, 54, 38, 97, 65, 52, 5, 97, 92, 70, 81, 90, 79, 62, 8, 19, 53, 76, 36, 8, 79, 77, 9, 76, 52, 97, 88, 82, 55, 72, 89] 80\n"
     ]
    }
   ],
   "source": [
    "# Your code here\n",
    "import random\n",
    "sample_list_2=[]\n",
    "list(sample_list_2)\n",
    "print(len(sample_list_2),type(sample_list_2))\n",
    "\n",
    "for i in range(0,80):\n",
    "    sample_list_2.append(random.randint(0,100))\n",
    "    \n",
    "len(sample_list_2)\n",
    "\n",
    "print(sample_list_2, len(sample_list_2))"
   ]
  },
  {
   "cell_type": "markdown",
   "metadata": {},
   "source": [
    "#### Convert `sample_list_2` to a set called `set2`. Print the length of the set. Is its length still 80?"
   ]
  },
  {
   "cell_type": "code",
   "execution_count": 11,
   "metadata": {},
   "outputs": [
    {
     "name": "stdout",
     "output_type": "stream",
     "text": [
      "{0, 5, 7, 8, 9, 17, 18, 19, 22, 26, 27, 28, 30, 33, 34, 35, 36, 38, 43, 49, 52, 53, 54, 55, 57, 58, 59, 61, 62, 65, 66, 69, 70, 72, 75, 76, 77, 78, 79, 80, 81, 82, 85, 86, 88, 89, 90, 92, 95, 96, 97, 98} 52\n"
     ]
    }
   ],
   "source": [
    "# Your code here\n",
    "\n",
    "set2 = set(sample_list_2)\n",
    "\n",
    "print(set2, len(set2))\n",
    "\n"
   ]
  },
  {
   "cell_type": "markdown",
   "metadata": {},
   "source": [
    "#### Identify the elements present in `set1` but not in `set2`. Assign the elements to a new set named `set3`."
   ]
  },
  {
   "cell_type": "code",
   "execution_count": 12,
   "metadata": {},
   "outputs": [
    {
     "name": "stdout",
     "output_type": "stream",
     "text": [
      "{1, 2, 3, 4, 6, 11, 12, 13, 14, 15, 16, 20, 21, 24, 31, 37, 39, 40, 41, 42, 44, 46, 47, 50, 51, 56, 60, 67, 68, 71, 73, 74, 83, 84, 87, 93, 94, 99} 38\n"
     ]
    }
   ],
   "source": [
    "# Your code here\n",
    "\n",
    "set3 = set1.difference(set2)\n",
    "\n",
    "print(set3, len(set3))"
   ]
  },
  {
   "cell_type": "markdown",
   "metadata": {},
   "source": [
    "#### Identify the elements present in `set2` but not in `set1`. Assign the elements to a new set named `set4`."
   ]
  },
  {
   "cell_type": "code",
   "execution_count": 13,
   "metadata": {},
   "outputs": [
    {
     "name": "stdout",
     "output_type": "stream",
     "text": [
      "{0, 96, 66, 38, 72, 80, 55, 88, 57, 95} 10\n"
     ]
    }
   ],
   "source": [
    "# Your code here\n",
    "\n",
    "set4 = set2.difference(set1)\n",
    "print(set4, len(set4))"
   ]
  },
  {
   "cell_type": "markdown",
   "metadata": {},
   "source": [
    "#### Now Identify the elements shared between `set1` and `set2`. Assign the elements to a new set named `set5`."
   ]
  },
  {
   "cell_type": "code",
   "execution_count": 14,
   "metadata": {},
   "outputs": [
    {
     "name": "stdout",
     "output_type": "stream",
     "text": [
      "{5, 7, 8, 9, 17, 18, 19, 22, 26, 27, 28, 30, 33, 34, 35, 36, 43, 49, 52, 53, 54, 58, 59, 61, 62, 65, 69, 70, 75, 76, 77, 78, 79, 81, 82, 85, 86, 89, 90, 92, 97, 98} 42\n"
     ]
    }
   ],
   "source": [
    "# Your code here\n",
    "\n",
    "set5 = set1.intersection(set2)\n",
    "\n",
    "print(set5, len(set5))"
   ]
  },
  {
   "cell_type": "markdown",
   "metadata": {},
   "source": [
    "#### What is the relationship among the following values:\n",
    "\n",
    "* len(set1)\n",
    "* len(set2)\n",
    "* len(set3)\n",
    "* len(set4)\n",
    "* len(set5)\n",
    "\n",
    "Use a math formular to represent that relationship. Test your formular with Python code."
   ]
  },
  {
   "cell_type": "code",
   "execution_count": 15,
   "metadata": {},
   "outputs": [],
   "source": [
    "# Your code here\n",
    "\n",
    "if (len(set1)+len(set2))==(len(set3)+len(set4)+len(set5)):\n",
    "    print('True')"
   ]
  },
  {
   "cell_type": "markdown",
   "metadata": {},
   "source": [
    "#### Create an empty set called `set6`."
   ]
  },
  {
   "cell_type": "code",
   "execution_count": 18,
   "metadata": {},
   "outputs": [
    {
     "name": "stdout",
     "output_type": "stream",
     "text": [
      "<class 'set'>\n"
     ]
    }
   ],
   "source": [
    "# Your code here\n",
    "set6 = {()}\n",
    "\n",
    "print(type(set6))"
   ]
  },
  {
   "cell_type": "markdown",
   "metadata": {},
   "source": [
    "#### Add `set3` and `set5` to `set6` using the Python Set `update` method."
   ]
  },
  {
   "cell_type": "code",
   "execution_count": 19,
   "metadata": {},
   "outputs": [
    {
     "name": "stdout",
     "output_type": "stream",
     "text": [
      "{4, 11, 13, 17, 19, 20, 22, 24, 26, 28, 33, 34, 39, 41, 42, 43, 46, 47, 50, 53, 58, 59, 61, 62, 65, 68, 70, 71, 73, 75, 78, 82, 84, 85, 86, 87, 90, 94, ()}\n"
     ]
    }
   ],
   "source": [
    "# Your code here\n",
    "\n",
    "set6.update(set3)\n",
    "set6.update(set5)\n",
    "\n",
    "print(set6)"
   ]
  },
  {
   "cell_type": "markdown",
   "metadata": {},
   "source": [
    "#### Check if `set1` and `set6` are equal."
   ]
  },
  {
   "cell_type": "code",
   "execution_count": 20,
   "metadata": {},
   "outputs": [
    {
     "name": "stdout",
     "output_type": "stream",
     "text": [
      "set1 y set 6 no son iguales\n"
     ]
    }
   ],
   "source": [
    "# Your code here\n",
    "comparación = set1.difference(set6)\n",
    "\n",
    "if comparación == 0:\n",
    "    print('set1 y set 6 son iguales')\n",
    "else:\n",
    "    print('set1 y set 6 no son iguales')"
   ]
  },
  {
   "cell_type": "markdown",
   "metadata": {},
   "source": [
    "#### Check if `set1` contains `set2` using the Python Set `issubset` method. Then check if `set1` contains `set3`.*"
   ]
  },
  {
   "cell_type": "code",
   "execution_count": 23,
   "metadata": {},
   "outputs": [
    {
     "name": "stdout",
     "output_type": "stream",
     "text": [
      "Set1 contiene a set2:  False\n",
      "Set1 contiene a set3:  True\n"
     ]
    }
   ],
   "source": [
    "# Your code here\n",
    "a=set2.issubset(set1)\n",
    "print('Set1 contiene a set2: ', a)\n",
    "b=set3.issubset(set1)\n",
    "print('Set1 contiene a set3: ', b)"
   ]
  },
  {
   "cell_type": "markdown",
   "metadata": {},
   "source": [
    "#### Using the Python Set `union` method, aggregate `set3`, `set4`, and `set5`. Then aggregate `set1` and `set2`. \n",
    "\n",
    "#### Check if the aggregated values are equal."
   ]
  },
  {
   "cell_type": "code",
   "execution_count": 31,
   "metadata": {},
   "outputs": [
    {
     "name": "stdout",
     "output_type": "stream",
     "text": [
      "{0, 1, 2, 3, 4, 5, 6, 7, 8, 9, 11, 12, 13, 14, 15, 16, 17, 18, 19, 20, 21, 22, 24, 26, 27, 28, 29, 30, 31, 32, 33, 34, 35, 36, 37, 39, 40, 41, 42, 43, 44, 46, 47, 49, 50, 51, 52, 53, 54, 56, 58, 59, 60, 61, 62, 63, 65, 67, 68, 69, 70, 71, 73, 74, 75, 76, 77, 78, 79, 80, 81, 82, 83, 84, 85, 86, 87, 88, 89, 90, 92, 93, 94, 95, 96, 97, 98, 99, 100} {0, 1, 2, 3, 4, 5, 6, 7, 8, 9, 11, 12, 13, 14, 15, 16, 17, 18, 19, 20, 21, 22, 24, 26, 27, 28, 29, 30, 31, 32, 33, 34, 35, 36, 37, 39, 40, 41, 42, 43, 44, 46, 47, 49, 50, 51, 52, 53, 54, 56, 58, 59, 60, 61, 62, 63, 65, 67, 68, 69, 70, 71, 73, 74, 75, 76, 77, 78, 79, 80, 81, 82, 83, 84, 85, 86, 87, 88, 89, 90, 92, 93, 94, 95, 96, 97, 98, 99, 100} set()\n"
     ]
    }
   ],
   "source": [
    "# Your code here\n",
    "set7 = set3.union(set4).union(set5)\n",
    "\n",
    "set8 = set1.union(set2)\n",
    "\n",
    "diferencia = set7.difference(set8)\n",
    "print(set7, set8, diferencia)\n"
   ]
  },
  {
   "cell_type": "markdown",
   "metadata": {},
   "source": [
    "#### Using the `pop` method, remove the first element from `set1`."
   ]
  },
  {
   "cell_type": "code",
   "execution_count": 35,
   "metadata": {},
   "outputs": [],
   "source": [
    "# Your code here\n",
    "list1 = list(set1)\n",
    "\n",
    "primer_elemento=list1.pop(0)\n",
    "\n",
    "set1 = set(list1)"
   ]
  },
  {
   "cell_type": "markdown",
   "metadata": {},
   "source": [
    "#### Remove every element in the following list from `set1` if they are present in the set. Print the remaining elements.\n",
    "\n",
    "```\n",
    "list_to_remove = [1, 9, 11, 19, 21, 29, 31, 39, 41, 49, 51, 59, 61, 69, 71, 79, 81, 89, 91, 99]\n",
    "```"
   ]
  },
  {
   "cell_type": "code",
   "execution_count": 37,
   "metadata": {},
   "outputs": [
    {
     "name": "stdout",
     "output_type": "stream",
     "text": [
      "{3, 4, 5, 6, 7, 8, 12, 13, 14, 15, 16, 17, 18, 20, 22, 24, 26, 27, 28, 30, 33, 34, 35, 36, 37, 40, 42, 43, 44, 46, 47, 50, 52, 53, 54, 56, 58, 60, 62, 65, 67, 68, 70, 73, 74, 75, 76, 77, 78, 82, 83, 84, 85, 86, 87, 90, 92, 93, 94, 97, 98}\n"
     ]
    }
   ],
   "source": [
    "# Your code here\n",
    "list_to_remove = [1, 9, 11, 19, 21, 29, 31, 39, 41, 49, 51, 59, 61, 69, 71, 79, 81, 89, 91, 99]\n",
    "\n",
    "for i in list_to_remove:\n",
    "    if i in set1:\n",
    "        set1.remove(i)\n",
    "\n",
    "print(set1)\n"
   ]
  }
 ],
 "metadata": {
  "kernelspec": {
   "display_name": "ironhack",
   "language": "python",
   "name": "ironhack"
  },
  "language_info": {
   "codemirror_mode": {
    "name": "ipython",
    "version": 3
   },
   "file_extension": ".py",
   "mimetype": "text/x-python",
   "name": "python",
   "nbconvert_exporter": "python",
   "pygments_lexer": "ipython3",
   "version": "3.8.8"
  }
 },
 "nbformat": 4,
 "nbformat_minor": 2
}
